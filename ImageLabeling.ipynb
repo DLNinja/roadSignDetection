{
 "cells": [
  {
   "cell_type": "markdown",
   "id": "751b17a9",
   "metadata": {},
   "source": [
    "## Import Dependencies"
   ]
  },
  {
   "cell_type": "code",
   "execution_count": 1,
   "id": "38e05ee1",
   "metadata": {},
   "outputs": [],
   "source": [
    "# Import packages\n",
    "import uuid\n",
    "import os\n",
    "import time"
   ]
  },
  {
   "cell_type": "code",
   "execution_count": 2,
   "id": "34189a96",
   "metadata": {},
   "outputs": [],
   "source": [
    "import cv2"
   ]
  },
  {
   "cell_type": "markdown",
   "id": "9bf49a48",
   "metadata": {},
   "source": [
    "# Define images to collect"
   ]
  },
  {
   "cell_type": "code",
   "execution_count": 3,
   "id": "9bb7568d",
   "metadata": {},
   "outputs": [],
   "source": [
    "labels = ['stop', 'parking', 'priority', 'crosswalk', 'highway_entrance', 'highway_exit',\n",
    "          'roundabout', 'oneway', 'noentry', 'stop_light', 'car', 'roadblock']\n",
    "number_imgs = len(labels)"
   ]
  },
  {
   "cell_type": "code",
   "execution_count": 5,
   "id": "c9d3f041",
   "metadata": {
    "collapsed": true
   },
   "outputs": [],
   "source": [
    "number_imgs"
   ]
  },
  {
   "cell_type": "code",
   "execution_count": 4,
   "id": "ab05548b",
   "metadata": {},
   "outputs": [
    {
     "name": "stdout",
     "output_type": "stream",
     "text": [
      "{'1': 'stop', '2': 'parking', '3': 'priority', '4': 'crosswalk', '5': 'highway_entrance', '6': 'highway_exit', '7': 'roundabout', '8': 'oneway', '9': 'noentry', '0': 'stop_light', '-': 'car', '=': 'roadblock'}\n"
     ]
    }
   ],
   "source": [
    "keys = '1234567890-='\n",
    "key_map = {}\n",
    "for i in range(len(keys)):\n",
    "    key_map[keys[i]] = labels[i]\n",
    "\n",
    "print(key_map)"
   ]
  },
  {
   "cell_type": "code",
   "execution_count": 15,
   "id": "c2859fa8",
   "metadata": {},
   "outputs": [],
   "source": [
    "print(key_map)"
   ]
  },
  {
   "cell_type": "markdown",
   "id": "cc9c890c",
   "metadata": {},
   "source": [
    "# Define paths and create directories"
   ]
  },
  {
   "cell_type": "code",
   "execution_count": 5,
   "id": "2f0ce2de",
   "metadata": {},
   "outputs": [],
   "source": [
    "IMAGES_PATH = os.path.join('images', 'collectedimages')"
   ]
  },
  {
   "cell_type": "code",
   "execution_count": 6,
   "id": "e71ce4e0",
   "metadata": {},
   "outputs": [],
   "source": [
    "VIDEOS_PATH = '/home/pi/Brain/testVideos'"
   ]
  },
  {
   "cell_type": "code",
   "execution_count": 7,
   "id": "07999f04",
   "metadata": {},
   "outputs": [],
   "source": [
    "if not os.path.exists(IMAGES_PATH):\n",
    "    if os.name == 'possix':\n",
    "        !mkdir -p {IMAGES_PATH}\n",
    "    if os.name == 'nt':\n",
    "        !mkdir {IMAGES_PATH}\n",
    "        \n",
    "for label in labels:\n",
    "    path = os.path.join(IMAGES_PATH, label)\n",
    "    if not os.path.exists(path):\n",
    "        !mkdir -p {path}"
   ]
  },
  {
   "cell_type": "markdown",
   "id": "84b56439",
   "metadata": {},
   "source": [
    "# Capture Images"
   ]
  },
  {
   "cell_type": "code",
   "execution_count": 26,
   "id": "39040e9a",
   "metadata": {},
   "outputs": [],
   "source": [
    "video_nr = 4 # choose from which video you wish to extract images\n",
    "video_path = '{}/vid{}.mp4'.format(VIDEOS_PATH, video_nr)"
   ]
  },
  {
   "cell_type": "code",
   "execution_count": 27,
   "id": "cd58e815",
   "metadata": {},
   "outputs": [],
   "source": [
    "vid_capture = cv2.VideoCapture(video_path)\n",
    "\n",
    "frame_width = int(vid_capture.get(3))\n",
    "frame_height = int(vid_capture.get(4))\n",
    "frame_size = (frame_width,frame_height)\n",
    "fps = 30\n",
    "\n",
    "print('Frame size: {}'.format(frame_size))\n",
    "\n",
    "if (vid_capture.isOpened() == False):\n",
    "  print(\"Error opening the video file\")\n",
    "else:\n",
    "  fps = vid_capture.get(5)\n",
    "  print('Frames per second : ', fps,'FPS')\n",
    "  frame_count = vid_capture.get(7)\n",
    "  print('Frame count : ', frame_count)\n",
    "\n",
    "while(vid_capture.isOpened()):\n",
    "  # and the second is frame\n",
    "  ret, frame = vid_capture.read()\n",
    "  if ret == True:\n",
    "    cv2.imshow('Frame', frame)\n",
    "\n",
    "    key = cv2.waitKey(20)\n",
    "    if key == ord('q'):\n",
    "        print(key)\n",
    "        break\n",
    "    for i in range(len(keys)):\n",
    "        if ord(keys[i]) == key:\n",
    "            label = key_map[keys[i]]\n",
    "            imagename = os.path.join(IMAGES_PATH, label, label+'.'+'{}.jpg'.format(str(uuid.uuid1())))\n",
    "            cv2.imwrite(imagename, frame)\n",
    "            break\n",
    "  else:\n",
    "    break\n",
    " \n",
    "# Release the video capture object\n",
    "vid_capture.release()\n",
    "cv2.destroyAllWindows()"
   ]
  },
  {
   "cell_type": "markdown",
   "id": "da35e106",
   "metadata": {},
   "source": [
    "# Capture images from camera"
   ]
  },
  {
   "cell_type": "code",
   "execution_count": 7,
   "id": "be5b5302",
   "metadata": {},
   "outputs": [
    {
     "name": "stderr",
     "output_type": "stream",
     "text": [
      "[ WARN:0] global ../modules/videoio/src/cap_gstreamer.cpp (1824) handleMessage OpenCV | GStreamer warning: Embedded video playback halted; module v4l2src0 reported: Failed to allocate required memory.\n",
      "[ WARN:0] global ../modules/videoio/src/cap_gstreamer.cpp (914) open OpenCV | GStreamer warning: unable to start pipeline\n",
      "[ WARN:0] global ../modules/videoio/src/cap_gstreamer.cpp (501) isPipelinePlaying OpenCV | GStreamer warning: GStreamer: pipeline have not been created\n"
     ]
    },
    {
     "name": "stdout",
     "output_type": "stream",
     "text": [
      "Frame size: (640, 480)\n",
      "Frames per second :  30.0 FPS\n",
      "Frame count :  -1.0\n",
      "113\n"
     ]
    }
   ],
   "source": [
    "vid_capture = cv2.VideoCapture(0)\n",
    "\n",
    "frame_width = int(vid_capture.get(3))\n",
    "frame_height = int(vid_capture.get(4))\n",
    "frame_size = (frame_width,frame_height)\n",
    "fps = 30\n",
    "\n",
    "print('Frame size: {}'.format(frame_size))\n",
    "\n",
    "if (vid_capture.isOpened() == False):\n",
    "  print(\"Error opening the video file\")\n",
    "else:\n",
    "  fps = vid_capture.get(5)\n",
    "  print('Frames per second : ', fps,'FPS')\n",
    "  frame_count = vid_capture.get(7)\n",
    "  print('Frame count : ', frame_count)\n",
    "\n",
    "while(vid_capture.isOpened()):\n",
    "  # and the second is frame\n",
    "  ret, frame = vid_capture.read()\n",
    "  if ret == True:\n",
    "    cv2.imshow('Frame', frame)\n",
    "\n",
    "    key = cv2.waitKey(20)\n",
    "    if key == ord('q'):\n",
    "        print(key)\n",
    "        break\n",
    "    for i in range(len(keys)):\n",
    "        if ord(keys[i]) == key:\n",
    "            label = key_map[keys[i]]\n",
    "            imagename = os.path.join(IMAGES_PATH, label, label+'.'+'{}.jpg'.format(str(uuid.uuid1())))\n",
    "            cv2.imwrite(imagename, frame)\n",
    "            break\n",
    "  else:\n",
    "    break\n",
    " \n",
    "# Release the video capture object\n",
    "vid_capture.release()\n",
    "cv2.destroyAllWindows()"
   ]
  },
  {
   "cell_type": "markdown",
   "id": "0c860f97",
   "metadata": {},
   "source": [
    "# Image labelling"
   ]
  },
  {
   "cell_type": "code",
   "execution_count": 10,
   "id": "3a2eeb11",
   "metadata": {},
   "outputs": [
    {
     "name": "stdout",
     "output_type": "stream",
     "text": [
      "Defaulting to user installation because normal site-packages is not writeable\n",
      "Looking in indexes: https://pypi.org/simple, https://www.piwheels.org/simple\n",
      "Requirement already satisfied: pyqt5 in /usr/lib/python3/dist-packages (5.15.2)\n",
      "Collecting pyqt5\n",
      "  Downloading PyQt5-5.15.9.tar.gz (3.2 MB)\n",
      "\u001b[2K     \u001b[38;2;114;156;31m━━━━━━━━━━━━━━━━━━━━━━━━━━━━━━━━━━━━━━━━\u001b[0m \u001b[32m3.2/3.2 MB\u001b[0m \u001b[31m5.3 MB/s\u001b[0m eta \u001b[36m0:00:00\u001b[0mm eta \u001b[36m0:00:01\u001b[0m0:01\u001b[0m:01\u001b[0m\n",
      "\u001b[?25h  Installing build dependencies ... \u001b[?25ldone\n",
      "\u001b[?25h  Getting requirements to build wheel ... \u001b[?25ldone\n",
      "\u001b[?25h  Preparing metadata (pyproject.toml) ... \u001b[?25lerror\n",
      "  \u001b[1;31merror\u001b[0m: \u001b[1msubprocess-exited-with-error\u001b[0m\n",
      "  \n",
      "  \u001b[31m×\u001b[0m \u001b[32mPreparing metadata \u001b[0m\u001b[1;32m(\u001b[0m\u001b[32mpyproject.toml\u001b[0m\u001b[1;32m)\u001b[0m did not run successfully.\n",
      "  \u001b[31m│\u001b[0m exit code: \u001b[1;36m1\u001b[0m\n",
      "  \u001b[31m╰─>\u001b[0m \u001b[31m[22 lines of output]\u001b[0m\n",
      "  \u001b[31m   \u001b[0m Traceback (most recent call last):\n",
      "  \u001b[31m   \u001b[0m   File \"/home/pi/.local/lib/python3.9/site-packages/pip/_vendor/pyproject_hooks/_in_process/_in_process.py\", line 353, in <module>\n",
      "  \u001b[31m   \u001b[0m     main()\n",
      "  \u001b[31m   \u001b[0m   File \"/home/pi/.local/lib/python3.9/site-packages/pip/_vendor/pyproject_hooks/_in_process/_in_process.py\", line 335, in main\n",
      "  \u001b[31m   \u001b[0m     json_out['return_val'] = hook(**hook_input['kwargs'])\n",
      "  \u001b[31m   \u001b[0m   File \"/home/pi/.local/lib/python3.9/site-packages/pip/_vendor/pyproject_hooks/_in_process/_in_process.py\", line 152, in prepare_metadata_for_build_wheel\n",
      "  \u001b[31m   \u001b[0m     whl_basename = backend.build_wheel(metadata_directory, config_settings)\n",
      "  \u001b[31m   \u001b[0m   File \"/tmp/pip-build-env-tgpyobkq/overlay/lib/python3.9/site-packages/sipbuild/api.py\", line 46, in build_wheel\n",
      "  \u001b[31m   \u001b[0m     project = AbstractProject.bootstrap('wheel',\n",
      "  \u001b[31m   \u001b[0m   File \"/tmp/pip-build-env-tgpyobkq/overlay/lib/python3.9/site-packages/sipbuild/abstract_project.py\", line 87, in bootstrap\n",
      "  \u001b[31m   \u001b[0m     project.setup(pyproject, tool, tool_description)\n",
      "  \u001b[31m   \u001b[0m   File \"/tmp/pip-build-env-tgpyobkq/overlay/lib/python3.9/site-packages/sipbuild/project.py\", line 585, in setup\n",
      "  \u001b[31m   \u001b[0m     self.apply_user_defaults(tool)\n",
      "  \u001b[31m   \u001b[0m   File \"project.py\", line 68, in apply_user_defaults\n",
      "  \u001b[31m   \u001b[0m     super().apply_user_defaults(tool)\n",
      "  \u001b[31m   \u001b[0m   File \"/tmp/pip-build-env-tgpyobkq/overlay/lib/python3.9/site-packages/pyqtbuild/project.py\", line 70, in apply_user_defaults\n",
      "  \u001b[31m   \u001b[0m     super().apply_user_defaults(tool)\n",
      "  \u001b[31m   \u001b[0m   File \"/tmp/pip-build-env-tgpyobkq/overlay/lib/python3.9/site-packages/sipbuild/project.py\", line 236, in apply_user_defaults\n",
      "  \u001b[31m   \u001b[0m     self.builder.apply_user_defaults(tool)\n",
      "  \u001b[31m   \u001b[0m   File \"/tmp/pip-build-env-tgpyobkq/overlay/lib/python3.9/site-packages/pyqtbuild/builder.py\", line 69, in apply_user_defaults\n",
      "  \u001b[31m   \u001b[0m     raise PyProjectOptionException('qmake',\n",
      "  \u001b[31m   \u001b[0m sipbuild.pyproject.PyProjectOptionException\n",
      "  \u001b[31m   \u001b[0m \u001b[31m[end of output]\u001b[0m\n",
      "  \n",
      "  \u001b[1;35mnote\u001b[0m: This error originates from a subprocess, and is likely not a problem with pip.\n",
      "\u001b[1;31merror\u001b[0m: \u001b[1mmetadata-generation-failed\u001b[0m\n",
      "\n",
      "\u001b[31m×\u001b[0m Encountered error while generating package metadata.\n",
      "\u001b[31m╰─>\u001b[0m See above for output.\n",
      "\n",
      "\u001b[1;35mnote\u001b[0m: This is an issue with the package mentioned above, not pip.\n",
      "\u001b[1;36mhint\u001b[0m: See above for details.\n",
      "\u001b[?25h"
     ]
    }
   ],
   "source": [
    "!pip install --upgrade pyqt5 lxml"
   ]
  },
  {
   "cell_type": "code",
   "execution_count": 12,
   "id": "1532efc7",
   "metadata": {},
   "outputs": [],
   "source": [
    "LABELIMG_PATH = os.path.join('labelimg')"
   ]
  },
  {
   "cell_type": "code",
   "execution_count": 13,
   "id": "d8650cc2",
   "metadata": {},
   "outputs": [
    {
     "name": "stdout",
     "output_type": "stream",
     "text": [
      "Cloning into 'labelimg'...\n",
      "remote: Enumerating objects: 2097, done.\u001b[K\n",
      "remote: Counting objects: 100% (7/7), done.\u001b[K\n",
      "remote: Compressing objects: 100% (7/7), done.\u001b[K\n",
      "remote: Total 2097 (delta 0), reused 4 (delta 0), pack-reused 2090\u001b[K\n",
      "Receiving objects: 100% (2097/2097), 237.14 MiB | 8.71 MiB/s, done.\n",
      "Resolving deltas: 100% (1242/1242), done.\n"
     ]
    }
   ],
   "source": [
    "if not os.path.exists(LABELIMG_PATH):\n",
    "    !mkdir -p {LABELIMG_PATH}\n",
    "    !git clone https://github.com/tzutalin/labelImg {LABELIMG_PATH}"
   ]
  },
  {
   "cell_type": "code",
   "execution_count": 14,
   "id": "7e615a2d",
   "metadata": {},
   "outputs": [
    {
     "name": "stdout",
     "output_type": "stream",
     "text": [
      "pyrcc5 -o libs/resources.py resources.qrc\r\n",
      "make: pyrcc5: No such file or directory\r\n",
      "make: *** [Makefile:24: qt5py3] Error 127\r\n"
     ]
    }
   ],
   "source": [
    "!cd {LABELIMG_PATH} && make qt5py3"
   ]
  },
  {
   "cell_type": "code",
   "execution_count": 9,
   "id": "19ed1367",
   "metadata": {},
   "outputs": [],
   "source": [
    "TRAIN_PATH = os.path.join('images', 'train')\n",
    "TEST_PATH = os.path.join('images', 'test')\n",
    "ARCHIVE_PATH = os.path.join('images', 'archive1.tar.gz')"
   ]
  },
  {
   "cell_type": "code",
   "execution_count": 10,
   "id": "78becce3",
   "metadata": {},
   "outputs": [],
   "source": [
    "!tar -czf {ARCHIVE_PATH} {TRAIN_PATH} {TEST_PATH}"
   ]
  },
  {
   "cell_type": "code",
   "execution_count": null,
   "id": "45d60d68",
   "metadata": {},
   "outputs": [],
   "source": []
  }
 ],
 "metadata": {
  "kernelspec": {
   "display_name": "Python 3 (ipykernel)",
   "language": "python",
   "name": "python3"
  },
  "language_info": {
   "codemirror_mode": {
    "name": "ipython",
    "version": 3
   },
   "file_extension": ".py",
   "mimetype": "text/x-python",
   "name": "python",
   "nbconvert_exporter": "python",
   "pygments_lexer": "ipython3",
   "version": "3.9.2"
  }
 },
 "nbformat": 4,
 "nbformat_minor": 5
}
